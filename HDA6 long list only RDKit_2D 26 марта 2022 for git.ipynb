{
 "cells": [
  {
   "cell_type": "markdown",
   "metadata": {},
   "source": [
    "# 1. Импортирование библиотек и модулей"
   ]
  },
  {
   "cell_type": "code",
   "execution_count": 235,
   "metadata": {},
   "outputs": [],
   "source": [
    "from rdkit import Chem, DataStructs\n",
    "from rdkit.Chem import AllChem, Descriptors\n",
    "from rdkit.ML.Descriptors import MoleculeDescriptors\n",
    "import numpy as np\n",
    "import pandas as pd\n",
    "from sklearn.svm import SVC\n",
    "from sklearn.ensemble import RandomForestClassifier, GradientBoostingClassifier\n",
    "from sklearn.model_selection import train_test_split, StratifiedKFold, GridSearchCV\n",
    "from sklearn.model_selection import permutation_test_score\n",
    "from sklearn.preprocessing import StandardScaler\n",
    "from sklearn.model_selection import cross_val_predict\n",
    "from sklearn import metrics\n",
    "from sklearn.metrics import cohen_kappa_score\n",
    "from sklearn.metrics import balanced_accuracy_score\n",
    "from sklearn.metrics import pairwise_distances\n",
    "import joblib"
   ]
  },
  {
   "cell_type": "markdown",
   "metadata": {},
   "source": [
    "# 2.Загрузка обучающей и тестовой выборок"
   ]
  },
  {
   "cell_type": "code",
   "execution_count": 236,
   "metadata": {},
   "outputs": [],
   "source": [
    "fname_tr = \"datasets/HDAC6_ws.sdf\"\n",
    "\n",
    "mols_tr = []\n",
    "y_tr = []\n",
    "for mol in Chem.SDMolSupplier(fname_tr):\n",
    "    if mol is not None:\n",
    "        mols_tr.append(mol)\n",
    "        y_tr.append(mol.GetIntProp(\"Active\"))"
   ]
  },
  {
   "cell_type": "code",
   "execution_count": 237,
   "metadata": {
    "scrolled": true
   },
   "outputs": [],
   "source": [
    "fname_ts = \"datasets/HDAC6_ts.sdf\"\n",
    "\n",
    "mols_ts = []\n",
    "y_ts = []\n",
    "for mol in Chem.SDMolSupplier(fname_ts):\n",
    "    if mol is not None:\n",
    "        mols_ts.append(mol)\n",
    "        y_ts.append(mol.GetIntProp(\"Active\"))"
   ]
  },
  {
   "cell_type": "markdown",
   "metadata": {},
   "source": [
    "# 3.Расчет дескрипторов обучающей выборки"
   ]
  },
  {
   "cell_type": "code",
   "execution_count": 238,
   "metadata": {},
   "outputs": [],
   "source": [
    "calc = MoleculeDescriptors.MolecularDescriptorCalculator([x[0] for x in Descriptors._descList])\n",
    "header = calc.GetDescriptorNames()"
   ]
  },
  {
   "cell_type": "code",
   "execution_count": 239,
   "metadata": {},
   "outputs": [],
   "source": [
    "descr_tr= []\n",
    "for m in mols_tr:\n",
    "    descr_tr.append(calc.CalcDescriptors(m))\n",
    "x_tr = np.asarray(descr_tr)"
   ]
  },
  {
   "cell_type": "code",
   "execution_count": 240,
   "metadata": {},
   "outputs": [],
   "source": [
    "df_RDKit_2D = pd.DataFrame(x_tr,columns=header)"
   ]
  },
  {
   "cell_type": "code",
   "execution_count": 241,
   "metadata": {},
   "outputs": [
    {
     "data": {
      "text/html": [
       "<div>\n",
       "<style scoped>\n",
       "    .dataframe tbody tr th:only-of-type {\n",
       "        vertical-align: middle;\n",
       "    }\n",
       "\n",
       "    .dataframe tbody tr th {\n",
       "        vertical-align: top;\n",
       "    }\n",
       "\n",
       "    .dataframe thead th {\n",
       "        text-align: right;\n",
       "    }\n",
       "</style>\n",
       "<table border=\"1\" class=\"dataframe\">\n",
       "  <thead>\n",
       "    <tr style=\"text-align: right;\">\n",
       "      <th></th>\n",
       "      <th>MaxEStateIndex</th>\n",
       "      <th>MinEStateIndex</th>\n",
       "      <th>MaxAbsEStateIndex</th>\n",
       "      <th>MinAbsEStateIndex</th>\n",
       "      <th>qed</th>\n",
       "      <th>MolWt</th>\n",
       "      <th>HeavyAtomMolWt</th>\n",
       "      <th>ExactMolWt</th>\n",
       "      <th>NumValenceElectrons</th>\n",
       "      <th>NumRadicalElectrons</th>\n",
       "      <th>...</th>\n",
       "      <th>fr_sulfide</th>\n",
       "      <th>fr_sulfonamd</th>\n",
       "      <th>fr_sulfone</th>\n",
       "      <th>fr_term_acetylene</th>\n",
       "      <th>fr_tetrazole</th>\n",
       "      <th>fr_thiazole</th>\n",
       "      <th>fr_thiocyan</th>\n",
       "      <th>fr_thiophene</th>\n",
       "      <th>fr_unbrch_alkane</th>\n",
       "      <th>fr_urea</th>\n",
       "    </tr>\n",
       "  </thead>\n",
       "  <tbody>\n",
       "    <tr>\n",
       "      <th>0</th>\n",
       "      <td>12.330332</td>\n",
       "      <td>-0.593978</td>\n",
       "      <td>12.330332</td>\n",
       "      <td>0.044291</td>\n",
       "      <td>0.366637</td>\n",
       "      <td>302.374</td>\n",
       "      <td>280.198</td>\n",
       "      <td>302.163043</td>\n",
       "      <td>118.0</td>\n",
       "      <td>0.0</td>\n",
       "      <td>...</td>\n",
       "      <td>0.0</td>\n",
       "      <td>0.0</td>\n",
       "      <td>0.0</td>\n",
       "      <td>0.0</td>\n",
       "      <td>0.0</td>\n",
       "      <td>0.0</td>\n",
       "      <td>0.0</td>\n",
       "      <td>0.0</td>\n",
       "      <td>0.0</td>\n",
       "      <td>0.0</td>\n",
       "    </tr>\n",
       "    <tr>\n",
       "      <th>1</th>\n",
       "      <td>12.715980</td>\n",
       "      <td>-3.663292</td>\n",
       "      <td>12.715980</td>\n",
       "      <td>0.213972</td>\n",
       "      <td>0.432827</td>\n",
       "      <td>342.376</td>\n",
       "      <td>328.264</td>\n",
       "      <td>342.067428</td>\n",
       "      <td>122.0</td>\n",
       "      <td>0.0</td>\n",
       "      <td>...</td>\n",
       "      <td>0.0</td>\n",
       "      <td>0.0</td>\n",
       "      <td>0.0</td>\n",
       "      <td>0.0</td>\n",
       "      <td>0.0</td>\n",
       "      <td>0.0</td>\n",
       "      <td>0.0</td>\n",
       "      <td>0.0</td>\n",
       "      <td>0.0</td>\n",
       "      <td>0.0</td>\n",
       "    </tr>\n",
       "  </tbody>\n",
       "</table>\n",
       "<p>2 rows × 208 columns</p>\n",
       "</div>"
      ],
      "text/plain": [
       "   MaxEStateIndex  MinEStateIndex  MaxAbsEStateIndex  MinAbsEStateIndex  \\\n",
       "0       12.330332       -0.593978          12.330332           0.044291   \n",
       "1       12.715980       -3.663292          12.715980           0.213972   \n",
       "\n",
       "        qed    MolWt  HeavyAtomMolWt  ExactMolWt  NumValenceElectrons  \\\n",
       "0  0.366637  302.374         280.198  302.163043                118.0   \n",
       "1  0.432827  342.376         328.264  342.067428                122.0   \n",
       "\n",
       "   NumRadicalElectrons  ...  fr_sulfide  fr_sulfonamd  fr_sulfone  \\\n",
       "0                  0.0  ...         0.0           0.0         0.0   \n",
       "1                  0.0  ...         0.0           0.0         0.0   \n",
       "\n",
       "   fr_term_acetylene  fr_tetrazole  fr_thiazole  fr_thiocyan  fr_thiophene  \\\n",
       "0                0.0           0.0          0.0          0.0           0.0   \n",
       "1                0.0           0.0          0.0          0.0           0.0   \n",
       "\n",
       "   fr_unbrch_alkane  fr_urea  \n",
       "0               0.0      0.0  \n",
       "1               0.0      0.0  \n",
       "\n",
       "[2 rows x 208 columns]"
      ]
     },
     "execution_count": 241,
     "metadata": {},
     "output_type": "execute_result"
    }
   ],
   "source": [
    "df_RDKit_2D.head(2)"
   ]
  },
  {
   "cell_type": "code",
   "execution_count": 242,
   "metadata": {},
   "outputs": [
    {
     "data": {
      "text/plain": [
       "(105, 208)"
      ]
     },
     "execution_count": 242,
     "metadata": {},
     "output_type": "execute_result"
    }
   ],
   "source": [
    "x_tr.shape"
   ]
  },
  {
   "cell_type": "markdown",
   "metadata": {},
   "source": [
    "# 4. Расчет дескрипторов тестовой выборки"
   ]
  },
  {
   "cell_type": "code",
   "execution_count": 243,
   "metadata": {},
   "outputs": [],
   "source": [
    "descr_ts = []\n",
    "for m in mols_ts:\n",
    "    descr_ts.append(calc.CalcDescriptors(m))\n",
    "x_ts = np.asarray(descr_ts)"
   ]
  },
  {
   "cell_type": "code",
   "execution_count": 244,
   "metadata": {},
   "outputs": [
    {
     "data": {
      "text/plain": [
       "(26, 208)"
      ]
     },
     "execution_count": 244,
     "metadata": {},
     "output_type": "execute_result"
    }
   ],
   "source": [
    "x_ts.shape"
   ]
  },
  {
   "cell_type": "markdown",
   "metadata": {},
   "source": [
    "# 5. Построение и валидация модели RF "
   ]
  },
  {
   "cell_type": "markdown",
   "metadata": {},
   "source": [
    "## 5.1. Построение модели RF "
   ]
  },
  {
   "cell_type": "code",
   "execution_count": 245,
   "metadata": {},
   "outputs": [],
   "source": [
    "seed = 42"
   ]
  },
  {
   "cell_type": "code",
   "execution_count": 246,
   "metadata": {},
   "outputs": [],
   "source": [
    "cv = StratifiedKFold(n_splits=5, shuffle=True, random_state=seed)"
   ]
  },
  {
   "cell_type": "code",
   "execution_count": 247,
   "metadata": {},
   "outputs": [],
   "source": [
    "param_grid = {\"max_features\": [x_tr.shape[1] // 10, x_tr.shape[1] // 7, x_tr.shape[1] // 5, x_tr.shape[1] // 3],\n",
    "              \"n_estimators\": [100, 250, 500, 1000]}"
   ]
  },
  {
   "cell_type": "code",
   "execution_count": 248,
   "metadata": {},
   "outputs": [],
   "source": [
    "m = GridSearchCV(RandomForestClassifier(), param_grid, n_jobs=2, cv=cv, verbose=1)"
   ]
  },
  {
   "cell_type": "code",
   "execution_count": 249,
   "metadata": {},
   "outputs": [
    {
     "name": "stdout",
     "output_type": "stream",
     "text": [
      "Fitting 5 folds for each of 16 candidates, totalling 80 fits\n"
     ]
    },
    {
     "name": "stderr",
     "output_type": "stream",
     "text": [
      "[Parallel(n_jobs=2)]: Using backend LokyBackend with 2 concurrent workers.\n",
      "[Parallel(n_jobs=2)]: Done  46 tasks      | elapsed:   11.5s\n",
      "[Parallel(n_jobs=2)]: Done  80 out of  80 | elapsed:   23.0s finished\n",
      "C:\\Users\\08A4~1\\AppData\\Local\\conda\\conda\\envs\\my-rdkit-env\\lib\\site-packages\\sklearn\\model_selection\\_search.py:814: DeprecationWarning: The default of the `iid` parameter will change from True to False in version 0.22 and will be removed in 0.24. This will change numeric results when test-set sizes are unequal.\n",
      "  DeprecationWarning)\n"
     ]
    },
    {
     "data": {
      "text/plain": [
       "GridSearchCV(cv=StratifiedKFold(n_splits=5, random_state=42, shuffle=True),\n",
       "             error_score='raise-deprecating',\n",
       "             estimator=RandomForestClassifier(bootstrap=True, class_weight=None,\n",
       "                                              criterion='gini', max_depth=None,\n",
       "                                              max_features='auto',\n",
       "                                              max_leaf_nodes=None,\n",
       "                                              min_impurity_decrease=0.0,\n",
       "                                              min_impurity_split=None,\n",
       "                                              min_samples_leaf=1,\n",
       "                                              min_samples_split=2,\n",
       "                                              min_weight_fraction_leaf=0.0,\n",
       "                                              n_estimators='warn', n_jobs=None,\n",
       "                                              oob_score=False,\n",
       "                                              random_state=None, verbose=0,\n",
       "                                              warm_start=False),\n",
       "             iid='warn', n_jobs=2,\n",
       "             param_grid={'max_features': [20, 29, 41, 69],\n",
       "                         'n_estimators': [100, 250, 500, 1000]},\n",
       "             pre_dispatch='2*n_jobs', refit=True, return_train_score=False,\n",
       "             scoring=None, verbose=1)"
      ]
     },
     "execution_count": 249,
     "metadata": {},
     "output_type": "execute_result"
    }
   ],
   "source": [
    "m.fit(x_tr, y_tr)"
   ]
  },
  {
   "cell_type": "code",
   "execution_count": 250,
   "metadata": {},
   "outputs": [
    {
     "data": {
      "text/plain": [
       "{'max_features': 20, 'n_estimators': 500}"
      ]
     },
     "execution_count": 250,
     "metadata": {},
     "output_type": "execute_result"
    }
   ],
   "source": [
    "m.best_params_"
   ]
  },
  {
   "cell_type": "code",
   "execution_count": 251,
   "metadata": {},
   "outputs": [],
   "source": [
    "best_clf_RF = m.best_estimator_"
   ]
  },
  {
   "cell_type": "markdown",
   "metadata": {},
   "source": [
    "## 5.2. 5-fold-cross-validation  модели RF"
   ]
  },
  {
   "cell_type": "code",
   "execution_count": 252,
   "metadata": {},
   "outputs": [],
   "source": [
    "y_pred_CV_RF = cross_val_predict(best_clf_RF, x_tr, y_tr, cv=cv)"
   ]
  },
  {
   "cell_type": "code",
   "execution_count": 253,
   "metadata": {},
   "outputs": [
    {
     "name": "stdout",
     "output_type": "stream",
     "text": [
      "balanced_accuracy =  0.8\n",
      "SE =  0.68\n",
      "SP =  0.93\n",
      "Kappa =  0.63\n"
     ]
    }
   ],
   "source": [
    "confusion_matrix_RF = metrics.confusion_matrix(y_tr, y_pred_CV_RF, labels=[0,1])\n",
    "Kappa = metrics.cohen_kappa_score(y_tr, y_pred_CV_RF, weights='linear')\n",
    "TN, FP, FN, TP = confusion_matrix_RF.ravel()\n",
    "SE = TP/(TP+FN)\n",
    "SP = TN/(TN+FP)\n",
    "BA = (SE + SP)/2\n",
    "print(\"balanced_accuracy = \", round((BA), 2))\n",
    "print(\"SE = \", round((SE), 2))\n",
    "print(\"SP = \", round((SP), 2))\n",
    "print(\"Kappa = \", round((Kappa), 2))"
   ]
  },
  {
   "cell_type": "code",
   "execution_count": 254,
   "metadata": {},
   "outputs": [
    {
     "data": {
      "text/plain": [
       "['HDAC6_long_list_MGU/20  march 2022 without scale/HDAC6_RF_RDKit_2D.pkl']"
      ]
     },
     "execution_count": 254,
     "metadata": {},
     "output_type": "execute_result"
    }
   ],
   "source": [
    "joblib.dump(best_clf_RF, \"models/HDAC6_RF_RDKit_2D.pkl\", compress=3)"
   ]
  },
  {
   "cell_type": "markdown",
   "metadata": {},
   "source": [
    "## 5.3.Y-randomization для модели RF"
   ]
  },
  {
   "cell_type": "code",
   "execution_count": 255,
   "metadata": {},
   "outputs": [
    {
     "name": "stderr",
     "output_type": "stream",
     "text": [
      "[Parallel(n_jobs=-1)]: Using backend LokyBackend with 4 concurrent workers.\n"
     ]
    },
    {
     "name": "stdout",
     "output_type": "stream",
     "text": [
      "True score =  0.81 \n",
      "Y-randomization =  0.48 \n",
      "p-value =  0.0476\n"
     ]
    },
    {
     "name": "stderr",
     "output_type": "stream",
     "text": [
      "[Parallel(n_jobs=-1)]: Done  20 out of  20 | elapsed:   15.2s finished\n"
     ]
    }
   ],
   "source": [
    "permutations = 20\n",
    "score, permutation_scores, pvalue = permutation_test_score(best_clf_RF, x_tr, y_tr,\n",
    "                                                           cv=cv, scoring='balanced_accuracy',\n",
    "                                                           n_permutations=permutations,\n",
    "                                                           n_jobs=-1,\n",
    "                                                           verbose=1,\n",
    "                                                           random_state=24)\n",
    "print('True score = ', score.round(2),\n",
    "      '\\nY-randomization = ', np.mean(permutation_scores).round(2),\n",
    "      '\\np-value = ', pvalue.round(4))"
   ]
  },
  {
   "cell_type": "markdown",
   "metadata": {},
   "source": [
    "## 5.4. Валидация на внешней тестовой выборке для модели RF"
   ]
  },
  {
   "cell_type": "code",
   "execution_count": 256,
   "metadata": {},
   "outputs": [],
   "source": [
    "y_pred_rf = best_clf_RF.predict(x_ts)"
   ]
  },
  {
   "cell_type": "code",
   "execution_count": 257,
   "metadata": {},
   "outputs": [
    {
     "data": {
      "text/plain": [
       "array([1, 1, 1, 0, 1, 1, 1, 1, 1, 0, 0, 0, 0, 0, 0, 0, 0, 0, 1, 0, 0, 0,\n",
       "       0, 0, 0, 0])"
      ]
     },
     "execution_count": 257,
     "metadata": {},
     "output_type": "execute_result"
    }
   ],
   "source": [
    "y_pred_rf"
   ]
  },
  {
   "cell_type": "code",
   "execution_count": 258,
   "metadata": {},
   "outputs": [],
   "source": [
    "confusion_matrix_ts = metrics.confusion_matrix(y_ts, y_pred_rf, labels=[0,1])"
   ]
  },
  {
   "cell_type": "code",
   "execution_count": 259,
   "metadata": {},
   "outputs": [
    {
     "name": "stdout",
     "output_type": "stream",
     "text": [
      "balanced_accuracy =  0.92\n",
      "SE =  0.89\n",
      "SP =  0.94\n",
      "Kappa =  0.83\n"
     ]
    }
   ],
   "source": [
    "Kappa = metrics.cohen_kappa_score(y_ts, y_pred_rf, weights='linear')\n",
    "TN, FP, FN, TP = confusion_matrix_ts.ravel()\n",
    "SE = TP/(TP+FN)\n",
    "SP = TN/(TN+FP)\n",
    "BA = (SE + SP)/2\n",
    "print(\"balanced_accuracy = \", round((BA), 2))\n",
    "print(\"SE = \", round((SE), 2))\n",
    "print(\"SP = \", round((SP), 2))\n",
    "print(\"Kappa = \", round((Kappa), 2))"
   ]
  },
  {
   "cell_type": "markdown",
   "metadata": {},
   "source": [
    "## 5.5. Выявление 5 наиболее значимых признаков"
   ]
  },
  {
   "cell_type": "code",
   "execution_count": 260,
   "metadata": {},
   "outputs": [],
   "source": [
    "imp = best_clf_RF.feature_importances_"
   ]
  },
  {
   "cell_type": "code",
   "execution_count": 261,
   "metadata": {},
   "outputs": [],
   "source": [
    "indices = np.argsort(imp)[::-1]"
   ]
  },
  {
   "cell_type": "code",
   "execution_count": 262,
   "metadata": {},
   "outputs": [
    {
     "name": "stdout",
     "output_type": "stream",
     "text": [
      "Feature ranking:\n",
      "1. feature 48 (0.046026)\n",
      "2. feature 22 (0.036923)\n",
      "3. feature 100 (0.031736)\n",
      "4. feature 17 (0.029979)\n",
      "5. feature 3 (0.027863)\n"
     ]
    }
   ],
   "source": [
    "print(\"Feature ranking:\")\n",
    "\n",
    "# print top 5 features\n",
    "for i in range(5):\n",
    "    print(\"%d. feature %d (%f)\" % (i + 1, indices[i], imp[indices[i]]))"
   ]
  },
  {
   "cell_type": "code",
   "execution_count": 263,
   "metadata": {},
   "outputs": [
    {
     "data": {
      "text/html": [
       "<div>\n",
       "<style scoped>\n",
       "    .dataframe tbody tr th:only-of-type {\n",
       "        vertical-align: middle;\n",
       "    }\n",
       "\n",
       "    .dataframe tbody tr th {\n",
       "        vertical-align: top;\n",
       "    }\n",
       "\n",
       "    .dataframe thead th {\n",
       "        text-align: right;\n",
       "    }\n",
       "</style>\n",
       "<table border=\"1\" class=\"dataframe\">\n",
       "  <thead>\n",
       "    <tr style=\"text-align: right;\">\n",
       "      <th></th>\n",
       "      <th>PEOE_VSA12</th>\n",
       "      <th>BCUT2D_LOGPLOW</th>\n",
       "      <th>VSA_EState7</th>\n",
       "      <th>BCUT2D_MWHI</th>\n",
       "      <th>MinAbsEStateIndex</th>\n",
       "    </tr>\n",
       "  </thead>\n",
       "  <tbody>\n",
       "    <tr>\n",
       "      <th>0</th>\n",
       "      <td>0.000000</td>\n",
       "      <td>-2.148483</td>\n",
       "      <td>4.616686</td>\n",
       "      <td>16.466793</td>\n",
       "      <td>0.044291</td>\n",
       "    </tr>\n",
       "    <tr>\n",
       "      <th>1</th>\n",
       "      <td>0.000000</td>\n",
       "      <td>-2.142886</td>\n",
       "      <td>4.202210</td>\n",
       "      <td>32.233325</td>\n",
       "      <td>0.213972</td>\n",
       "    </tr>\n",
       "    <tr>\n",
       "      <th>2</th>\n",
       "      <td>11.814359</td>\n",
       "      <td>-2.172474</td>\n",
       "      <td>5.082345</td>\n",
       "      <td>19.145439</td>\n",
       "      <td>0.130424</td>\n",
       "    </tr>\n",
       "    <tr>\n",
       "      <th>3</th>\n",
       "      <td>11.814359</td>\n",
       "      <td>-2.172474</td>\n",
       "      <td>5.412180</td>\n",
       "      <td>16.466980</td>\n",
       "      <td>0.091429</td>\n",
       "    </tr>\n",
       "    <tr>\n",
       "      <th>4</th>\n",
       "      <td>11.814359</td>\n",
       "      <td>-2.172474</td>\n",
       "      <td>5.626235</td>\n",
       "      <td>16.466936</td>\n",
       "      <td>0.059463</td>\n",
       "    </tr>\n",
       "    <tr>\n",
       "      <th>...</th>\n",
       "      <td>...</td>\n",
       "      <td>...</td>\n",
       "      <td>...</td>\n",
       "      <td>...</td>\n",
       "      <td>...</td>\n",
       "    </tr>\n",
       "    <tr>\n",
       "      <th>100</th>\n",
       "      <td>5.907180</td>\n",
       "      <td>-2.181693</td>\n",
       "      <td>2.412524</td>\n",
       "      <td>16.475853</td>\n",
       "      <td>0.027149</td>\n",
       "    </tr>\n",
       "    <tr>\n",
       "      <th>101</th>\n",
       "      <td>5.907180</td>\n",
       "      <td>-2.273960</td>\n",
       "      <td>2.902825</td>\n",
       "      <td>16.644506</td>\n",
       "      <td>0.018391</td>\n",
       "    </tr>\n",
       "    <tr>\n",
       "      <th>102</th>\n",
       "      <td>5.907180</td>\n",
       "      <td>-2.181694</td>\n",
       "      <td>2.342483</td>\n",
       "      <td>16.475866</td>\n",
       "      <td>0.022401</td>\n",
       "    </tr>\n",
       "    <tr>\n",
       "      <th>103</th>\n",
       "      <td>5.907180</td>\n",
       "      <td>-2.325164</td>\n",
       "      <td>-0.581986</td>\n",
       "      <td>16.566778</td>\n",
       "      <td>0.019060</td>\n",
       "    </tr>\n",
       "    <tr>\n",
       "      <th>104</th>\n",
       "      <td>5.907180</td>\n",
       "      <td>-2.317806</td>\n",
       "      <td>7.282413</td>\n",
       "      <td>16.475853</td>\n",
       "      <td>0.047663</td>\n",
       "    </tr>\n",
       "  </tbody>\n",
       "</table>\n",
       "<p>105 rows × 5 columns</p>\n",
       "</div>"
      ],
      "text/plain": [
       "     PEOE_VSA12  BCUT2D_LOGPLOW  VSA_EState7  BCUT2D_MWHI  MinAbsEStateIndex\n",
       "0      0.000000       -2.148483     4.616686    16.466793           0.044291\n",
       "1      0.000000       -2.142886     4.202210    32.233325           0.213972\n",
       "2     11.814359       -2.172474     5.082345    19.145439           0.130424\n",
       "3     11.814359       -2.172474     5.412180    16.466980           0.091429\n",
       "4     11.814359       -2.172474     5.626235    16.466936           0.059463\n",
       "..          ...             ...          ...          ...                ...\n",
       "100    5.907180       -2.181693     2.412524    16.475853           0.027149\n",
       "101    5.907180       -2.273960     2.902825    16.644506           0.018391\n",
       "102    5.907180       -2.181694     2.342483    16.475866           0.022401\n",
       "103    5.907180       -2.325164    -0.581986    16.566778           0.019060\n",
       "104    5.907180       -2.317806     7.282413    16.475853           0.047663\n",
       "\n",
       "[105 rows x 5 columns]"
      ]
     },
     "execution_count": 263,
     "metadata": {},
     "output_type": "execute_result"
    }
   ],
   "source": [
    "df_RDKit_2D.iloc[:, [48, 22, 100, 17, 3]]"
   ]
  },
  {
   "cell_type": "markdown",
   "metadata": {},
   "source": [
    "# 6. Расчет AD методом Euclidian distances при K=1 (https://doi.org/10.1021/acs.jcim.0c00415)"
   ]
  },
  {
   "cell_type": "code",
   "execution_count": 264,
   "metadata": {},
   "outputs": [],
   "source": [
    "neighbors_k= pairwise_distances(x_tr, n_jobs=-1)\n",
    "neighbors_k.sort(0)"
   ]
  },
  {
   "cell_type": "code",
   "execution_count": 265,
   "metadata": {},
   "outputs": [
    {
     "data": {
      "text/html": [
       "<div>\n",
       "<style scoped>\n",
       "    .dataframe tbody tr th:only-of-type {\n",
       "        vertical-align: middle;\n",
       "    }\n",
       "\n",
       "    .dataframe tbody tr th {\n",
       "        vertical-align: top;\n",
       "    }\n",
       "\n",
       "    .dataframe thead th {\n",
       "        text-align: right;\n",
       "    }\n",
       "</style>\n",
       "<table border=\"1\" class=\"dataframe\">\n",
       "  <thead>\n",
       "    <tr style=\"text-align: right;\">\n",
       "      <th></th>\n",
       "      <th>0</th>\n",
       "      <th>1</th>\n",
       "      <th>2</th>\n",
       "      <th>3</th>\n",
       "      <th>4</th>\n",
       "      <th>5</th>\n",
       "      <th>6</th>\n",
       "      <th>7</th>\n",
       "      <th>8</th>\n",
       "      <th>9</th>\n",
       "      <th>...</th>\n",
       "      <th>95</th>\n",
       "      <th>96</th>\n",
       "      <th>97</th>\n",
       "      <th>98</th>\n",
       "      <th>99</th>\n",
       "      <th>100</th>\n",
       "      <th>101</th>\n",
       "      <th>102</th>\n",
       "      <th>103</th>\n",
       "      <th>104</th>\n",
       "    </tr>\n",
       "  </thead>\n",
       "  <tbody>\n",
       "    <tr>\n",
       "      <th>0</th>\n",
       "      <td>0.000000e+00</td>\n",
       "      <td>0.000000e+00</td>\n",
       "      <td>0.000000e+00</td>\n",
       "      <td>0.000000e+00</td>\n",
       "      <td>0.000000e+00</td>\n",
       "      <td>0.000000e+00</td>\n",
       "      <td>0.000000e+00</td>\n",
       "      <td>0.000000e+00</td>\n",
       "      <td>0.000000e+00</td>\n",
       "      <td>0.000000e+00</td>\n",
       "      <td>...</td>\n",
       "      <td>0.000000e+00</td>\n",
       "      <td>0.000000e+00</td>\n",
       "      <td>0.000000e+00</td>\n",
       "      <td>0.000000e+00</td>\n",
       "      <td>0.000000e+00</td>\n",
       "      <td>0.000000e+00</td>\n",
       "      <td>0.000000e+00</td>\n",
       "      <td>0.000000e+00</td>\n",
       "      <td>0.000000e+00</td>\n",
       "      <td>0.000000e+00</td>\n",
       "    </tr>\n",
       "    <tr>\n",
       "      <th>1</th>\n",
       "      <td>2.924382e+04</td>\n",
       "      <td>3.570522e+02</td>\n",
       "      <td>5.281930e+05</td>\n",
       "      <td>9.300985e+06</td>\n",
       "      <td>4.889977e+01</td>\n",
       "      <td>2.262601e+04</td>\n",
       "      <td>1.535351e+06</td>\n",
       "      <td>1.743071e+06</td>\n",
       "      <td>3.160302e+04</td>\n",
       "      <td>1.503897e+04</td>\n",
       "      <td>...</td>\n",
       "      <td>5.832893e+05</td>\n",
       "      <td>1.711208e+01</td>\n",
       "      <td>6.766899e+04</td>\n",
       "      <td>3.235252e+05</td>\n",
       "      <td>1.283203e+06</td>\n",
       "      <td>8.562572e+01</td>\n",
       "      <td>8.562572e+01</td>\n",
       "      <td>2.729952e+05</td>\n",
       "      <td>9.105191e+06</td>\n",
       "      <td>5.468408e+03</td>\n",
       "    </tr>\n",
       "    <tr>\n",
       "      <th>2</th>\n",
       "      <td>3.471071e+04</td>\n",
       "      <td>3.571113e+02</td>\n",
       "      <td>9.028959e+05</td>\n",
       "      <td>1.040775e+07</td>\n",
       "      <td>1.842330e+06</td>\n",
       "      <td>3.160302e+04</td>\n",
       "      <td>3.969924e+07</td>\n",
       "      <td>2.849838e+06</td>\n",
       "      <td>3.795672e+04</td>\n",
       "      <td>3.198289e+04</td>\n",
       "      <td>...</td>\n",
       "      <td>1.902754e+06</td>\n",
       "      <td>3.571113e+02</td>\n",
       "      <td>6.766902e+04</td>\n",
       "      <td>4.524404e+05</td>\n",
       "      <td>1.319465e+06</td>\n",
       "      <td>8.109176e+03</td>\n",
       "      <td>8.109629e+03</td>\n",
       "      <td>3.099402e+05</td>\n",
       "      <td>6.967719e+07</td>\n",
       "      <td>2.924382e+04</td>\n",
       "    </tr>\n",
       "    <tr>\n",
       "      <th>3</th>\n",
       "      <td>3.719271e+04</td>\n",
       "      <td>1.947552e+04</td>\n",
       "      <td>1.671934e+06</td>\n",
       "      <td>1.215082e+07</td>\n",
       "      <td>1.983286e+06</td>\n",
       "      <td>6.955962e+04</td>\n",
       "      <td>9.529116e+07</td>\n",
       "      <td>6.705018e+06</td>\n",
       "      <td>5.422840e+04</td>\n",
       "      <td>3.198290e+04</td>\n",
       "      <td>...</td>\n",
       "      <td>2.626336e+06</td>\n",
       "      <td>1.983036e+04</td>\n",
       "      <td>8.103568e+04</td>\n",
       "      <td>5.342476e+05</td>\n",
       "      <td>1.902754e+06</td>\n",
       "      <td>3.905668e+04</td>\n",
       "      <td>3.905663e+04</td>\n",
       "      <td>4.220554e+05</td>\n",
       "      <td>2.830270e+08</td>\n",
       "      <td>4.452387e+04</td>\n",
       "    </tr>\n",
       "    <tr>\n",
       "      <th>4</th>\n",
       "      <td>7.376723e+04</td>\n",
       "      <td>3.233739e+04</td>\n",
       "      <td>2.031626e+06</td>\n",
       "      <td>1.474295e+07</td>\n",
       "      <td>2.364037e+06</td>\n",
       "      <td>1.083748e+05</td>\n",
       "      <td>1.059526e+08</td>\n",
       "      <td>8.068986e+06</td>\n",
       "      <td>8.378398e+04</td>\n",
       "      <td>3.233739e+04</td>\n",
       "      <td>...</td>\n",
       "      <td>3.185958e+06</td>\n",
       "      <td>3.198290e+04</td>\n",
       "      <td>1.824740e+06</td>\n",
       "      <td>5.342476e+05</td>\n",
       "      <td>3.755540e+06</td>\n",
       "      <td>4.452407e+04</td>\n",
       "      <td>4.452387e+04</td>\n",
       "      <td>5.608618e+05</td>\n",
       "      <td>4.885061e+08</td>\n",
       "      <td>4.452407e+04</td>\n",
       "    </tr>\n",
       "    <tr>\n",
       "      <th>...</th>\n",
       "      <td>...</td>\n",
       "      <td>...</td>\n",
       "      <td>...</td>\n",
       "      <td>...</td>\n",
       "      <td>...</td>\n",
       "      <td>...</td>\n",
       "      <td>...</td>\n",
       "      <td>...</td>\n",
       "      <td>...</td>\n",
       "      <td>...</td>\n",
       "      <td>...</td>\n",
       "      <td>...</td>\n",
       "      <td>...</td>\n",
       "      <td>...</td>\n",
       "      <td>...</td>\n",
       "      <td>...</td>\n",
       "      <td>...</td>\n",
       "      <td>...</td>\n",
       "      <td>...</td>\n",
       "      <td>...</td>\n",
       "      <td>...</td>\n",
       "    </tr>\n",
       "    <tr>\n",
       "      <th>100</th>\n",
       "      <td>1.872691e+09</td>\n",
       "      <td>1.872370e+09</td>\n",
       "      <td>1.856238e+09</td>\n",
       "      <td>1.822425e+09</td>\n",
       "      <td>1.860683e+09</td>\n",
       "      <td>1.872235e+09</td>\n",
       "      <td>1.699929e+09</td>\n",
       "      <td>1.834576e+09</td>\n",
       "      <td>1.872266e+09</td>\n",
       "      <td>1.872402e+09</td>\n",
       "      <td>...</td>\n",
       "      <td>1.848303e+09</td>\n",
       "      <td>1.872370e+09</td>\n",
       "      <td>1.866887e+09</td>\n",
       "      <td>1.864739e+09</td>\n",
       "      <td>1.846401e+09</td>\n",
       "      <td>1.872617e+09</td>\n",
       "      <td>1.872617e+09</td>\n",
       "      <td>1.869520e+09</td>\n",
       "      <td>1.220242e+09</td>\n",
       "      <td>1.872662e+09</td>\n",
       "    </tr>\n",
       "    <tr>\n",
       "      <th>101</th>\n",
       "      <td>2.419646e+09</td>\n",
       "      <td>2.419324e+09</td>\n",
       "      <td>2.403192e+09</td>\n",
       "      <td>2.369380e+09</td>\n",
       "      <td>2.407637e+09</td>\n",
       "      <td>2.419189e+09</td>\n",
       "      <td>2.246884e+09</td>\n",
       "      <td>2.381531e+09</td>\n",
       "      <td>2.419221e+09</td>\n",
       "      <td>2.419356e+09</td>\n",
       "      <td>...</td>\n",
       "      <td>2.395258e+09</td>\n",
       "      <td>2.419324e+09</td>\n",
       "      <td>2.413842e+09</td>\n",
       "      <td>2.411694e+09</td>\n",
       "      <td>2.393355e+09</td>\n",
       "      <td>2.419572e+09</td>\n",
       "      <td>2.419572e+09</td>\n",
       "      <td>2.416474e+09</td>\n",
       "      <td>1.220279e+09</td>\n",
       "      <td>2.419616e+09</td>\n",
       "    </tr>\n",
       "    <tr>\n",
       "      <th>102</th>\n",
       "      <td>2.446919e+09</td>\n",
       "      <td>2.446597e+09</td>\n",
       "      <td>2.430465e+09</td>\n",
       "      <td>2.396653e+09</td>\n",
       "      <td>2.434910e+09</td>\n",
       "      <td>2.446462e+09</td>\n",
       "      <td>2.274157e+09</td>\n",
       "      <td>2.408803e+09</td>\n",
       "      <td>2.446494e+09</td>\n",
       "      <td>2.446629e+09</td>\n",
       "      <td>...</td>\n",
       "      <td>2.422531e+09</td>\n",
       "      <td>2.446597e+09</td>\n",
       "      <td>2.441115e+09</td>\n",
       "      <td>2.438967e+09</td>\n",
       "      <td>2.420628e+09</td>\n",
       "      <td>2.446845e+09</td>\n",
       "      <td>2.446845e+09</td>\n",
       "      <td>2.443747e+09</td>\n",
       "      <td>1.226677e+09</td>\n",
       "      <td>2.446889e+09</td>\n",
       "    </tr>\n",
       "    <tr>\n",
       "      <th>103</th>\n",
       "      <td>2.939493e+09</td>\n",
       "      <td>2.939172e+09</td>\n",
       "      <td>2.923040e+09</td>\n",
       "      <td>2.889227e+09</td>\n",
       "      <td>2.927485e+09</td>\n",
       "      <td>2.939037e+09</td>\n",
       "      <td>2.766732e+09</td>\n",
       "      <td>2.901378e+09</td>\n",
       "      <td>2.939068e+09</td>\n",
       "      <td>2.939204e+09</td>\n",
       "      <td>...</td>\n",
       "      <td>2.915106e+09</td>\n",
       "      <td>2.939172e+09</td>\n",
       "      <td>2.933690e+09</td>\n",
       "      <td>2.931541e+09</td>\n",
       "      <td>2.913203e+09</td>\n",
       "      <td>2.939420e+09</td>\n",
       "      <td>2.939420e+09</td>\n",
       "      <td>2.936322e+09</td>\n",
       "      <td>1.719251e+09</td>\n",
       "      <td>2.939464e+09</td>\n",
       "    </tr>\n",
       "    <tr>\n",
       "      <th>104</th>\n",
       "      <td>3.938087e+09</td>\n",
       "      <td>3.937765e+09</td>\n",
       "      <td>3.921633e+09</td>\n",
       "      <td>3.887821e+09</td>\n",
       "      <td>3.926079e+09</td>\n",
       "      <td>3.937630e+09</td>\n",
       "      <td>3.765325e+09</td>\n",
       "      <td>3.899972e+09</td>\n",
       "      <td>3.937662e+09</td>\n",
       "      <td>3.937798e+09</td>\n",
       "      <td>...</td>\n",
       "      <td>3.913699e+09</td>\n",
       "      <td>3.937766e+09</td>\n",
       "      <td>3.932283e+09</td>\n",
       "      <td>3.930135e+09</td>\n",
       "      <td>3.911796e+09</td>\n",
       "      <td>3.938013e+09</td>\n",
       "      <td>3.938013e+09</td>\n",
       "      <td>3.934915e+09</td>\n",
       "      <td>2.717845e+09</td>\n",
       "      <td>3.938058e+09</td>\n",
       "    </tr>\n",
       "  </tbody>\n",
       "</table>\n",
       "<p>105 rows × 105 columns</p>\n",
       "</div>"
      ],
      "text/plain": [
       "              0             1             2             3             4    \\\n",
       "0    0.000000e+00  0.000000e+00  0.000000e+00  0.000000e+00  0.000000e+00   \n",
       "1    2.924382e+04  3.570522e+02  5.281930e+05  9.300985e+06  4.889977e+01   \n",
       "2    3.471071e+04  3.571113e+02  9.028959e+05  1.040775e+07  1.842330e+06   \n",
       "3    3.719271e+04  1.947552e+04  1.671934e+06  1.215082e+07  1.983286e+06   \n",
       "4    7.376723e+04  3.233739e+04  2.031626e+06  1.474295e+07  2.364037e+06   \n",
       "..            ...           ...           ...           ...           ...   \n",
       "100  1.872691e+09  1.872370e+09  1.856238e+09  1.822425e+09  1.860683e+09   \n",
       "101  2.419646e+09  2.419324e+09  2.403192e+09  2.369380e+09  2.407637e+09   \n",
       "102  2.446919e+09  2.446597e+09  2.430465e+09  2.396653e+09  2.434910e+09   \n",
       "103  2.939493e+09  2.939172e+09  2.923040e+09  2.889227e+09  2.927485e+09   \n",
       "104  3.938087e+09  3.937765e+09  3.921633e+09  3.887821e+09  3.926079e+09   \n",
       "\n",
       "              5             6             7             8             9    \\\n",
       "0    0.000000e+00  0.000000e+00  0.000000e+00  0.000000e+00  0.000000e+00   \n",
       "1    2.262601e+04  1.535351e+06  1.743071e+06  3.160302e+04  1.503897e+04   \n",
       "2    3.160302e+04  3.969924e+07  2.849838e+06  3.795672e+04  3.198289e+04   \n",
       "3    6.955962e+04  9.529116e+07  6.705018e+06  5.422840e+04  3.198290e+04   \n",
       "4    1.083748e+05  1.059526e+08  8.068986e+06  8.378398e+04  3.233739e+04   \n",
       "..            ...           ...           ...           ...           ...   \n",
       "100  1.872235e+09  1.699929e+09  1.834576e+09  1.872266e+09  1.872402e+09   \n",
       "101  2.419189e+09  2.246884e+09  2.381531e+09  2.419221e+09  2.419356e+09   \n",
       "102  2.446462e+09  2.274157e+09  2.408803e+09  2.446494e+09  2.446629e+09   \n",
       "103  2.939037e+09  2.766732e+09  2.901378e+09  2.939068e+09  2.939204e+09   \n",
       "104  3.937630e+09  3.765325e+09  3.899972e+09  3.937662e+09  3.937798e+09   \n",
       "\n",
       "     ...           95            96            97            98   \\\n",
       "0    ...  0.000000e+00  0.000000e+00  0.000000e+00  0.000000e+00   \n",
       "1    ...  5.832893e+05  1.711208e+01  6.766899e+04  3.235252e+05   \n",
       "2    ...  1.902754e+06  3.571113e+02  6.766902e+04  4.524404e+05   \n",
       "3    ...  2.626336e+06  1.983036e+04  8.103568e+04  5.342476e+05   \n",
       "4    ...  3.185958e+06  3.198290e+04  1.824740e+06  5.342476e+05   \n",
       "..   ...           ...           ...           ...           ...   \n",
       "100  ...  1.848303e+09  1.872370e+09  1.866887e+09  1.864739e+09   \n",
       "101  ...  2.395258e+09  2.419324e+09  2.413842e+09  2.411694e+09   \n",
       "102  ...  2.422531e+09  2.446597e+09  2.441115e+09  2.438967e+09   \n",
       "103  ...  2.915106e+09  2.939172e+09  2.933690e+09  2.931541e+09   \n",
       "104  ...  3.913699e+09  3.937766e+09  3.932283e+09  3.930135e+09   \n",
       "\n",
       "              99            100           101           102           103  \\\n",
       "0    0.000000e+00  0.000000e+00  0.000000e+00  0.000000e+00  0.000000e+00   \n",
       "1    1.283203e+06  8.562572e+01  8.562572e+01  2.729952e+05  9.105191e+06   \n",
       "2    1.319465e+06  8.109176e+03  8.109629e+03  3.099402e+05  6.967719e+07   \n",
       "3    1.902754e+06  3.905668e+04  3.905663e+04  4.220554e+05  2.830270e+08   \n",
       "4    3.755540e+06  4.452407e+04  4.452387e+04  5.608618e+05  4.885061e+08   \n",
       "..            ...           ...           ...           ...           ...   \n",
       "100  1.846401e+09  1.872617e+09  1.872617e+09  1.869520e+09  1.220242e+09   \n",
       "101  2.393355e+09  2.419572e+09  2.419572e+09  2.416474e+09  1.220279e+09   \n",
       "102  2.420628e+09  2.446845e+09  2.446845e+09  2.443747e+09  1.226677e+09   \n",
       "103  2.913203e+09  2.939420e+09  2.939420e+09  2.936322e+09  1.719251e+09   \n",
       "104  3.911796e+09  3.938013e+09  3.938013e+09  3.934915e+09  2.717845e+09   \n",
       "\n",
       "              104  \n",
       "0    0.000000e+00  \n",
       "1    5.468408e+03  \n",
       "2    2.924382e+04  \n",
       "3    4.452387e+04  \n",
       "4    4.452407e+04  \n",
       "..            ...  \n",
       "100  1.872662e+09  \n",
       "101  2.419616e+09  \n",
       "102  2.446889e+09  \n",
       "103  2.939464e+09  \n",
       "104  3.938058e+09  \n",
       "\n",
       "[105 rows x 105 columns]"
      ]
     },
     "execution_count": 265,
     "metadata": {},
     "output_type": "execute_result"
    }
   ],
   "source": [
    "df_tr=pd.DataFrame(neighbors_k)\n",
    "df_tr"
   ]
  },
  {
   "cell_type": "code",
   "execution_count": 266,
   "metadata": {},
   "outputs": [],
   "source": [
    "similarity= neighbors_k"
   ]
  },
  {
   "cell_type": "code",
   "execution_count": 267,
   "metadata": {},
   "outputs": [],
   "source": [
    "Dmean=np.mean(similarity[1,:])"
   ]
  },
  {
   "cell_type": "code",
   "execution_count": 268,
   "metadata": {},
   "outputs": [
    {
     "data": {
      "text/plain": [
       "24908205.68"
      ]
     },
     "execution_count": 268,
     "metadata": {},
     "output_type": "execute_result"
    }
   ],
   "source": [
    "round(Dmean, 2)"
   ]
  },
  {
   "cell_type": "code",
   "execution_count": 269,
   "metadata": {},
   "outputs": [],
   "source": [
    "std=np.std(similarity[1,:])"
   ]
  },
  {
   "cell_type": "code",
   "execution_count": 270,
   "metadata": {},
   "outputs": [
    {
     "data": {
      "text/plain": [
       "112597654.25"
      ]
     },
     "execution_count": 270,
     "metadata": {},
     "output_type": "execute_result"
    }
   ],
   "source": [
    "round(std, 2)"
   ]
  },
  {
   "cell_type": "code",
   "execution_count": 271,
   "metadata": {},
   "outputs": [
    {
     "name": "stdout",
     "output_type": "stream",
     "text": [
      "81207032.8\n"
     ]
    }
   ],
   "source": [
    "model_AD_limit=Dmean+std*0.5\n",
    "print(np.round(model_AD_limit, 2))"
   ]
  },
  {
   "cell_type": "code",
   "execution_count": 272,
   "metadata": {},
   "outputs": [],
   "source": [
    "neighbors_k_ts= pairwise_distances(x_tr,Y=x_ts, n_jobs=-1)\n",
    "neighbors_k_ts.sort(0)"
   ]
  },
  {
   "cell_type": "code",
   "execution_count": 273,
   "metadata": {},
   "outputs": [
    {
     "data": {
      "text/html": [
       "<div>\n",
       "<style scoped>\n",
       "    .dataframe tbody tr th:only-of-type {\n",
       "        vertical-align: middle;\n",
       "    }\n",
       "\n",
       "    .dataframe tbody tr th {\n",
       "        vertical-align: top;\n",
       "    }\n",
       "\n",
       "    .dataframe thead th {\n",
       "        text-align: right;\n",
       "    }\n",
       "</style>\n",
       "<table border=\"1\" class=\"dataframe\">\n",
       "  <thead>\n",
       "    <tr style=\"text-align: right;\">\n",
       "      <th></th>\n",
       "      <th>0</th>\n",
       "      <th>1</th>\n",
       "      <th>2</th>\n",
       "      <th>3</th>\n",
       "      <th>4</th>\n",
       "      <th>5</th>\n",
       "      <th>6</th>\n",
       "      <th>7</th>\n",
       "      <th>8</th>\n",
       "      <th>9</th>\n",
       "      <th>...</th>\n",
       "      <th>16</th>\n",
       "      <th>17</th>\n",
       "      <th>18</th>\n",
       "      <th>19</th>\n",
       "      <th>20</th>\n",
       "      <th>21</th>\n",
       "      <th>22</th>\n",
       "      <th>23</th>\n",
       "      <th>24</th>\n",
       "      <th>25</th>\n",
       "    </tr>\n",
       "  </thead>\n",
       "  <tbody>\n",
       "    <tr>\n",
       "      <th>0</th>\n",
       "      <td>2.274629e+02</td>\n",
       "      <td>2.493019e+06</td>\n",
       "      <td>2.512593e+01</td>\n",
       "      <td>3.543677e+04</td>\n",
       "      <td>1.174441e+04</td>\n",
       "      <td>6.973401e+03</td>\n",
       "      <td>2.022698e+05</td>\n",
       "      <td>4.080051e+07</td>\n",
       "      <td>1.889487e+07</td>\n",
       "      <td>4.885820e+01</td>\n",
       "      <td>...</td>\n",
       "      <td>6.652448e+04</td>\n",
       "      <td>8.716560e+03</td>\n",
       "      <td>3.358001e+03</td>\n",
       "      <td>1.304004e+05</td>\n",
       "      <td>1.184349e+05</td>\n",
       "      <td>3.513458e+04</td>\n",
       "      <td>1.489620e+04</td>\n",
       "      <td>1.007968e+02</td>\n",
       "      <td>4.872662e+03</td>\n",
       "      <td>8.688165e+01</td>\n",
       "    </tr>\n",
       "    <tr>\n",
       "      <th>1</th>\n",
       "      <td>2.305302e+02</td>\n",
       "      <td>1.086620e+08</td>\n",
       "      <td>1.626308e+02</td>\n",
       "      <td>6.071169e+04</td>\n",
       "      <td>2.621267e+04</td>\n",
       "      <td>1.565330e+04</td>\n",
       "      <td>1.195211e+06</td>\n",
       "      <td>7.840534e+07</td>\n",
       "      <td>2.043022e+07</td>\n",
       "      <td>8.789788e+03</td>\n",
       "      <td>...</td>\n",
       "      <td>7.443066e+04</td>\n",
       "      <td>1.763302e+04</td>\n",
       "      <td>1.927666e+04</td>\n",
       "      <td>1.363779e+05</td>\n",
       "      <td>3.036207e+05</td>\n",
       "      <td>1.161698e+05</td>\n",
       "      <td>5.278102e+04</td>\n",
       "      <td>3.235252e+05</td>\n",
       "      <td>8.668025e+04</td>\n",
       "      <td>1.520190e+02</td>\n",
       "    </tr>\n",
       "    <tr>\n",
       "      <th>2</th>\n",
       "      <td>1.842330e+06</td>\n",
       "      <td>1.101973e+08</td>\n",
       "      <td>1.628419e+02</td>\n",
       "      <td>6.848104e+04</td>\n",
       "      <td>4.334708e+04</td>\n",
       "      <td>3.857638e+04</td>\n",
       "      <td>2.233896e+06</td>\n",
       "      <td>2.230608e+08</td>\n",
       "      <td>5.859411e+07</td>\n",
       "      <td>8.916855e+03</td>\n",
       "      <td>...</td>\n",
       "      <td>5.735884e+05</td>\n",
       "      <td>2.642228e+04</td>\n",
       "      <td>5.087733e+04</td>\n",
       "      <td>1.938235e+05</td>\n",
       "      <td>5.766159e+05</td>\n",
       "      <td>1.838387e+05</td>\n",
       "      <td>5.278103e+04</td>\n",
       "      <td>4.524404e+05</td>\n",
       "      <td>8.668025e+04</td>\n",
       "      <td>8.110655e+03</td>\n",
       "    </tr>\n",
       "    <tr>\n",
       "      <th>3</th>\n",
       "      <td>1.983286e+06</td>\n",
       "      <td>1.483612e+08</td>\n",
       "      <td>3.274706e+04</td>\n",
       "      <td>7.256862e+04</td>\n",
       "      <td>6.597246e+04</td>\n",
       "      <td>7.653297e+04</td>\n",
       "      <td>2.762089e+06</td>\n",
       "      <td>2.297442e+08</td>\n",
       "      <td>8.727408e+07</td>\n",
       "      <td>9.453946e+04</td>\n",
       "      <td>...</td>\n",
       "      <td>7.780664e+05</td>\n",
       "      <td>1.121716e+05</td>\n",
       "      <td>8.883346e+04</td>\n",
       "      <td>2.203386e+05</td>\n",
       "      <td>6.051943e+05</td>\n",
       "      <td>1.838387e+05</td>\n",
       "      <td>9.592662e+04</td>\n",
       "      <td>5.342476e+05</td>\n",
       "      <td>8.668086e+04</td>\n",
       "      <td>3.905675e+04</td>\n",
       "    </tr>\n",
       "    <tr>\n",
       "      <th>4</th>\n",
       "      <td>2.364037e+06</td>\n",
       "      <td>1.864507e+08</td>\n",
       "      <td>3.274708e+04</td>\n",
       "      <td>9.194950e+04</td>\n",
       "      <td>7.204002e+04</td>\n",
       "      <td>1.014014e+05</td>\n",
       "      <td>3.073909e+06</td>\n",
       "      <td>3.359131e+08</td>\n",
       "      <td>1.141860e+08</td>\n",
       "      <td>1.171645e+05</td>\n",
       "      <td>...</td>\n",
       "      <td>1.436493e+06</td>\n",
       "      <td>1.347968e+05</td>\n",
       "      <td>8.910204e+04</td>\n",
       "      <td>3.803380e+05</td>\n",
       "      <td>6.135608e+05</td>\n",
       "      <td>1.940909e+06</td>\n",
       "      <td>1.809850e+06</td>\n",
       "      <td>5.342476e+05</td>\n",
       "      <td>1.194235e+05</td>\n",
       "      <td>4.452379e+04</td>\n",
       "    </tr>\n",
       "    <tr>\n",
       "      <th>...</th>\n",
       "      <td>...</td>\n",
       "      <td>...</td>\n",
       "      <td>...</td>\n",
       "      <td>...</td>\n",
       "      <td>...</td>\n",
       "      <td>...</td>\n",
       "      <td>...</td>\n",
       "      <td>...</td>\n",
       "      <td>...</td>\n",
       "      <td>...</td>\n",
       "      <td>...</td>\n",
       "      <td>...</td>\n",
       "      <td>...</td>\n",
       "      <td>...</td>\n",
       "      <td>...</td>\n",
       "      <td>...</td>\n",
       "      <td>...</td>\n",
       "      <td>...</td>\n",
       "      <td>...</td>\n",
       "      <td>...</td>\n",
       "      <td>...</td>\n",
       "    </tr>\n",
       "    <tr>\n",
       "      <th>100</th>\n",
       "      <td>1.860683e+09</td>\n",
       "      <td>1.591268e+09</td>\n",
       "      <td>1.864205e+09</td>\n",
       "      <td>1.871658e+09</td>\n",
       "      <td>1.872278e+09</td>\n",
       "      <td>1.872228e+09</td>\n",
       "      <td>1.854004e+09</td>\n",
       "      <td>1.364016e+09</td>\n",
       "      <td>1.681035e+09</td>\n",
       "      <td>1.872118e+09</td>\n",
       "      <td>...</td>\n",
       "      <td>1.862592e+09</td>\n",
       "      <td>1.872100e+09</td>\n",
       "      <td>1.872216e+09</td>\n",
       "      <td>1.870649e+09</td>\n",
       "      <td>1.869824e+09</td>\n",
       "      <td>1.867004e+09</td>\n",
       "      <td>1.866873e+09</td>\n",
       "      <td>1.864739e+09</td>\n",
       "      <td>1.864292e+09</td>\n",
       "      <td>1.872617e+09</td>\n",
       "    </tr>\n",
       "    <tr>\n",
       "      <th>101</th>\n",
       "      <td>2.407637e+09</td>\n",
       "      <td>2.138222e+09</td>\n",
       "      <td>2.411159e+09</td>\n",
       "      <td>2.418612e+09</td>\n",
       "      <td>2.419232e+09</td>\n",
       "      <td>2.419182e+09</td>\n",
       "      <td>2.400958e+09</td>\n",
       "      <td>1.910971e+09</td>\n",
       "      <td>2.227989e+09</td>\n",
       "      <td>2.419072e+09</td>\n",
       "      <td>...</td>\n",
       "      <td>2.409546e+09</td>\n",
       "      <td>2.419054e+09</td>\n",
       "      <td>2.419170e+09</td>\n",
       "      <td>2.417603e+09</td>\n",
       "      <td>2.416778e+09</td>\n",
       "      <td>2.413958e+09</td>\n",
       "      <td>2.413827e+09</td>\n",
       "      <td>2.411694e+09</td>\n",
       "      <td>2.411246e+09</td>\n",
       "      <td>2.419572e+09</td>\n",
       "    </tr>\n",
       "    <tr>\n",
       "      <th>102</th>\n",
       "      <td>2.434910e+09</td>\n",
       "      <td>2.165495e+09</td>\n",
       "      <td>2.438432e+09</td>\n",
       "      <td>2.445885e+09</td>\n",
       "      <td>2.446505e+09</td>\n",
       "      <td>2.446455e+09</td>\n",
       "      <td>2.428231e+09</td>\n",
       "      <td>1.938244e+09</td>\n",
       "      <td>2.255262e+09</td>\n",
       "      <td>2.446345e+09</td>\n",
       "      <td>...</td>\n",
       "      <td>2.436819e+09</td>\n",
       "      <td>2.446327e+09</td>\n",
       "      <td>2.446443e+09</td>\n",
       "      <td>2.444876e+09</td>\n",
       "      <td>2.444051e+09</td>\n",
       "      <td>2.441231e+09</td>\n",
       "      <td>2.441100e+09</td>\n",
       "      <td>2.438967e+09</td>\n",
       "      <td>2.438519e+09</td>\n",
       "      <td>2.446845e+09</td>\n",
       "    </tr>\n",
       "    <tr>\n",
       "      <th>103</th>\n",
       "      <td>2.927485e+09</td>\n",
       "      <td>2.658070e+09</td>\n",
       "      <td>2.931007e+09</td>\n",
       "      <td>2.938460e+09</td>\n",
       "      <td>2.939080e+09</td>\n",
       "      <td>2.939030e+09</td>\n",
       "      <td>2.920806e+09</td>\n",
       "      <td>2.430818e+09</td>\n",
       "      <td>2.747837e+09</td>\n",
       "      <td>2.938920e+09</td>\n",
       "      <td>...</td>\n",
       "      <td>2.929394e+09</td>\n",
       "      <td>2.938902e+09</td>\n",
       "      <td>2.939018e+09</td>\n",
       "      <td>2.937451e+09</td>\n",
       "      <td>2.936626e+09</td>\n",
       "      <td>2.933806e+09</td>\n",
       "      <td>2.933675e+09</td>\n",
       "      <td>2.931541e+09</td>\n",
       "      <td>2.931094e+09</td>\n",
       "      <td>2.939420e+09</td>\n",
       "    </tr>\n",
       "    <tr>\n",
       "      <th>104</th>\n",
       "      <td>3.926079e+09</td>\n",
       "      <td>3.656663e+09</td>\n",
       "      <td>3.929601e+09</td>\n",
       "      <td>3.937053e+09</td>\n",
       "      <td>3.937674e+09</td>\n",
       "      <td>3.937623e+09</td>\n",
       "      <td>3.919399e+09</td>\n",
       "      <td>3.429412e+09</td>\n",
       "      <td>3.746430e+09</td>\n",
       "      <td>3.937513e+09</td>\n",
       "      <td>...</td>\n",
       "      <td>3.927987e+09</td>\n",
       "      <td>3.937496e+09</td>\n",
       "      <td>3.937611e+09</td>\n",
       "      <td>3.936045e+09</td>\n",
       "      <td>3.935219e+09</td>\n",
       "      <td>3.932399e+09</td>\n",
       "      <td>3.932268e+09</td>\n",
       "      <td>3.930135e+09</td>\n",
       "      <td>3.929687e+09</td>\n",
       "      <td>3.938013e+09</td>\n",
       "    </tr>\n",
       "  </tbody>\n",
       "</table>\n",
       "<p>105 rows × 26 columns</p>\n",
       "</div>"
      ],
      "text/plain": [
       "               0             1             2             3             4   \\\n",
       "0    2.274629e+02  2.493019e+06  2.512593e+01  3.543677e+04  1.174441e+04   \n",
       "1    2.305302e+02  1.086620e+08  1.626308e+02  6.071169e+04  2.621267e+04   \n",
       "2    1.842330e+06  1.101973e+08  1.628419e+02  6.848104e+04  4.334708e+04   \n",
       "3    1.983286e+06  1.483612e+08  3.274706e+04  7.256862e+04  6.597246e+04   \n",
       "4    2.364037e+06  1.864507e+08  3.274708e+04  9.194950e+04  7.204002e+04   \n",
       "..            ...           ...           ...           ...           ...   \n",
       "100  1.860683e+09  1.591268e+09  1.864205e+09  1.871658e+09  1.872278e+09   \n",
       "101  2.407637e+09  2.138222e+09  2.411159e+09  2.418612e+09  2.419232e+09   \n",
       "102  2.434910e+09  2.165495e+09  2.438432e+09  2.445885e+09  2.446505e+09   \n",
       "103  2.927485e+09  2.658070e+09  2.931007e+09  2.938460e+09  2.939080e+09   \n",
       "104  3.926079e+09  3.656663e+09  3.929601e+09  3.937053e+09  3.937674e+09   \n",
       "\n",
       "               5             6             7             8             9   \\\n",
       "0    6.973401e+03  2.022698e+05  4.080051e+07  1.889487e+07  4.885820e+01   \n",
       "1    1.565330e+04  1.195211e+06  7.840534e+07  2.043022e+07  8.789788e+03   \n",
       "2    3.857638e+04  2.233896e+06  2.230608e+08  5.859411e+07  8.916855e+03   \n",
       "3    7.653297e+04  2.762089e+06  2.297442e+08  8.727408e+07  9.453946e+04   \n",
       "4    1.014014e+05  3.073909e+06  3.359131e+08  1.141860e+08  1.171645e+05   \n",
       "..            ...           ...           ...           ...           ...   \n",
       "100  1.872228e+09  1.854004e+09  1.364016e+09  1.681035e+09  1.872118e+09   \n",
       "101  2.419182e+09  2.400958e+09  1.910971e+09  2.227989e+09  2.419072e+09   \n",
       "102  2.446455e+09  2.428231e+09  1.938244e+09  2.255262e+09  2.446345e+09   \n",
       "103  2.939030e+09  2.920806e+09  2.430818e+09  2.747837e+09  2.938920e+09   \n",
       "104  3.937623e+09  3.919399e+09  3.429412e+09  3.746430e+09  3.937513e+09   \n",
       "\n",
       "     ...            16            17            18            19  \\\n",
       "0    ...  6.652448e+04  8.716560e+03  3.358001e+03  1.304004e+05   \n",
       "1    ...  7.443066e+04  1.763302e+04  1.927666e+04  1.363779e+05   \n",
       "2    ...  5.735884e+05  2.642228e+04  5.087733e+04  1.938235e+05   \n",
       "3    ...  7.780664e+05  1.121716e+05  8.883346e+04  2.203386e+05   \n",
       "4    ...  1.436493e+06  1.347968e+05  8.910204e+04  3.803380e+05   \n",
       "..   ...           ...           ...           ...           ...   \n",
       "100  ...  1.862592e+09  1.872100e+09  1.872216e+09  1.870649e+09   \n",
       "101  ...  2.409546e+09  2.419054e+09  2.419170e+09  2.417603e+09   \n",
       "102  ...  2.436819e+09  2.446327e+09  2.446443e+09  2.444876e+09   \n",
       "103  ...  2.929394e+09  2.938902e+09  2.939018e+09  2.937451e+09   \n",
       "104  ...  3.927987e+09  3.937496e+09  3.937611e+09  3.936045e+09   \n",
       "\n",
       "               20            21            22            23            24  \\\n",
       "0    1.184349e+05  3.513458e+04  1.489620e+04  1.007968e+02  4.872662e+03   \n",
       "1    3.036207e+05  1.161698e+05  5.278102e+04  3.235252e+05  8.668025e+04   \n",
       "2    5.766159e+05  1.838387e+05  5.278103e+04  4.524404e+05  8.668025e+04   \n",
       "3    6.051943e+05  1.838387e+05  9.592662e+04  5.342476e+05  8.668086e+04   \n",
       "4    6.135608e+05  1.940909e+06  1.809850e+06  5.342476e+05  1.194235e+05   \n",
       "..            ...           ...           ...           ...           ...   \n",
       "100  1.869824e+09  1.867004e+09  1.866873e+09  1.864739e+09  1.864292e+09   \n",
       "101  2.416778e+09  2.413958e+09  2.413827e+09  2.411694e+09  2.411246e+09   \n",
       "102  2.444051e+09  2.441231e+09  2.441100e+09  2.438967e+09  2.438519e+09   \n",
       "103  2.936626e+09  2.933806e+09  2.933675e+09  2.931541e+09  2.931094e+09   \n",
       "104  3.935219e+09  3.932399e+09  3.932268e+09  3.930135e+09  3.929687e+09   \n",
       "\n",
       "               25  \n",
       "0    8.688165e+01  \n",
       "1    1.520190e+02  \n",
       "2    8.110655e+03  \n",
       "3    3.905675e+04  \n",
       "4    4.452379e+04  \n",
       "..            ...  \n",
       "100  1.872617e+09  \n",
       "101  2.419572e+09  \n",
       "102  2.446845e+09  \n",
       "103  2.939420e+09  \n",
       "104  3.938013e+09  \n",
       "\n",
       "[105 rows x 26 columns]"
      ]
     },
     "execution_count": 273,
     "metadata": {},
     "output_type": "execute_result"
    }
   ],
   "source": [
    "x_ts_AD=pd.DataFrame(neighbors_k_ts)\n",
    "x_ts_AD"
   ]
  },
  {
   "cell_type": "code",
   "execution_count": 274,
   "metadata": {},
   "outputs": [
    {
     "name": "stdout",
     "output_type": "stream",
     "text": [
      "[2.27463000e+02 2.49301876e+06 2.51260000e+01 3.54367660e+04\n",
      " 1.17444140e+04 6.97340100e+03 2.02269847e+05 4.08005065e+07\n",
      " 1.88948735e+07 4.88580000e+01 5.20621500e+03 1.30048170e+04\n",
      " 9.65579840e+04 5.24395114e+06 3.80880000e+01 3.57806048e+05\n",
      " 6.65244850e+04 8.71656000e+03 3.35800100e+03 1.30400447e+05\n",
      " 1.18434854e+05 3.51345830e+04 1.48962000e+04 1.00797000e+02\n",
      " 4.87266200e+03 8.68820000e+01]\n"
     ]
    }
   ],
   "source": [
    "similarity_ts= neighbors_k_ts\n",
    "cpd_AD=similarity_ts[0,:]\n",
    "cpd_value = np.round(cpd_AD, 3)\n",
    "print(cpd_value)"
   ]
  },
  {
   "cell_type": "code",
   "execution_count": 275,
   "metadata": {},
   "outputs": [
    {
     "name": "stdout",
     "output_type": "stream",
     "text": [
      "[ True  True  True  True  True  True  True  True  True  True  True  True\n",
      "  True  True  True  True  True  True  True  True  True  True  True  True\n",
      "  True  True]\n"
     ]
    }
   ],
   "source": [
    "cpd_AD = np.where(cpd_value <= model_AD_limit, True, False)\n",
    "print(cpd_AD)"
   ]
  },
  {
   "cell_type": "code",
   "execution_count": 276,
   "metadata": {},
   "outputs": [
    {
     "name": "stdout",
     "output_type": "stream",
     "text": [
      "Coverage =  1.0\n"
     ]
    }
   ],
   "source": [
    "print(\"Coverage = \", sum(cpd_AD) / len(cpd_AD))"
   ]
  },
  {
   "cell_type": "code",
   "execution_count": 277,
   "metadata": {},
   "outputs": [
    {
     "name": "stdout",
     "output_type": "stream",
     "text": [
      "Индексы соединений, вошедших в AD =  [ 0  1  2  3  4  5  6  7  8  9 10 11 12 13 14 15 16 17 18 19 20 21 22 23\n",
      " 24 25]\n"
     ]
    }
   ],
   "source": [
    "print(\"Индексы соединений, вошедших в AD = \", np.where(cpd_AD != 0)[0])"
   ]
  },
  {
   "cell_type": "markdown",
   "metadata": {},
   "source": [
    "# 7. Построение и валидация модели GBM"
   ]
  },
  {
   "cell_type": "markdown",
   "metadata": {},
   "source": [
    "## 7.1. Построение модели GBM"
   ]
  },
  {
   "cell_type": "code",
   "execution_count": 278,
   "metadata": {},
   "outputs": [],
   "source": [
    "param_grid = {\"n_estimators\": [100, 200, 300, 400, 500]}\n",
    "gbm = GridSearchCV(GradientBoostingClassifier(subsample=0.5, max_features=0.5), \n",
    "                   param_grid, n_jobs=2, cv=cv, verbose=1)"
   ]
  },
  {
   "cell_type": "code",
   "execution_count": 279,
   "metadata": {},
   "outputs": [
    {
     "name": "stdout",
     "output_type": "stream",
     "text": [
      "Fitting 5 folds for each of 5 candidates, totalling 25 fits\n"
     ]
    },
    {
     "name": "stderr",
     "output_type": "stream",
     "text": [
      "[Parallel(n_jobs=2)]: Using backend LokyBackend with 2 concurrent workers.\n",
      "[Parallel(n_jobs=2)]: Done  25 out of  25 | elapsed:    2.6s finished\n",
      "C:\\Users\\08A4~1\\AppData\\Local\\conda\\conda\\envs\\my-rdkit-env\\lib\\site-packages\\sklearn\\model_selection\\_search.py:814: DeprecationWarning: The default of the `iid` parameter will change from True to False in version 0.22 and will be removed in 0.24. This will change numeric results when test-set sizes are unequal.\n",
      "  DeprecationWarning)\n"
     ]
    },
    {
     "data": {
      "text/plain": [
       "GridSearchCV(cv=StratifiedKFold(n_splits=5, random_state=42, shuffle=True),\n",
       "             error_score='raise-deprecating',\n",
       "             estimator=GradientBoostingClassifier(criterion='friedman_mse',\n",
       "                                                  init=None, learning_rate=0.1,\n",
       "                                                  loss='deviance', max_depth=3,\n",
       "                                                  max_features=0.5,\n",
       "                                                  max_leaf_nodes=None,\n",
       "                                                  min_impurity_decrease=0.0,\n",
       "                                                  min_impurity_split=None,\n",
       "                                                  min_samples_leaf=1,\n",
       "                                                  min_samples_split=2,\n",
       "                                                  min_weight_fraction_leaf=0.0,\n",
       "                                                  n_estimators=100,\n",
       "                                                  n_iter_no_change=None,\n",
       "                                                  presort='auto',\n",
       "                                                  random_state=None,\n",
       "                                                  subsample=0.5, tol=0.0001,\n",
       "                                                  validation_fraction=0.1,\n",
       "                                                  verbose=0, warm_start=False),\n",
       "             iid='warn', n_jobs=2,\n",
       "             param_grid={'n_estimators': [100, 200, 300, 400, 500]},\n",
       "             pre_dispatch='2*n_jobs', refit=True, return_train_score=False,\n",
       "             scoring=None, verbose=1)"
      ]
     },
     "execution_count": 279,
     "metadata": {},
     "output_type": "execute_result"
    }
   ],
   "source": [
    "gbm.fit(x_tr, y_tr)"
   ]
  },
  {
   "cell_type": "code",
   "execution_count": 280,
   "metadata": {},
   "outputs": [
    {
     "data": {
      "text/plain": [
       "{'n_estimators': 200}"
      ]
     },
     "execution_count": 280,
     "metadata": {},
     "output_type": "execute_result"
    }
   ],
   "source": [
    "gbm.best_params_"
   ]
  },
  {
   "cell_type": "code",
   "execution_count": 281,
   "metadata": {},
   "outputs": [],
   "source": [
    "best_clf_GBM = gbm.best_estimator_"
   ]
  },
  {
   "cell_type": "markdown",
   "metadata": {},
   "source": [
    "## 7.2.  5-fold-cross-validation  модели GBM"
   ]
  },
  {
   "cell_type": "code",
   "execution_count": 282,
   "metadata": {},
   "outputs": [],
   "source": [
    "y_pred_CV_GBM = cross_val_predict(best_clf_GBM, x_tr, y_tr, cv=cv)"
   ]
  },
  {
   "cell_type": "code",
   "execution_count": 283,
   "metadata": {},
   "outputs": [
    {
     "name": "stdout",
     "output_type": "stream",
     "text": [
      "balanced_accuracy =  0.8\n",
      "SE =  0.74\n",
      "SP =  0.87\n",
      "Kappa =  0.61\n"
     ]
    }
   ],
   "source": [
    "confusion_matrix_CV_GBM = metrics.confusion_matrix(y_tr, y_pred_CV_GBM, labels=[0,1])\n",
    "Kappa = metrics.cohen_kappa_score(y_tr, y_pred_CV_GBM, weights='linear')\n",
    "TN, FP, FN, TP = confusion_matrix_CV_GBM.ravel()\n",
    "SE = TP/(TP+FN)\n",
    "SP = TN/(TN+FP)\n",
    "BA = (SE + SP)/2\n",
    "print(\"balanced_accuracy = \", round((BA), 2))\n",
    "print(\"SE = \", round((SE), 2))\n",
    "print(\"SP = \", round((SP), 2))\n",
    "print(\"Kappa = \", round((Kappa), 2))"
   ]
  },
  {
   "cell_type": "code",
   "execution_count": 284,
   "metadata": {},
   "outputs": [
    {
     "data": {
      "text/plain": [
       "['HDAC6_long_list_MGU/20  march 2022 without scale/HDAC6_GBM_RDKit_2D.pkl']"
      ]
     },
     "execution_count": 284,
     "metadata": {},
     "output_type": "execute_result"
    }
   ],
   "source": [
    "joblib.dump(best_clf_GBM, \"models/HDAC6_GBM_RDKit_2D.pkl\", compress=3)"
   ]
  },
  {
   "cell_type": "markdown",
   "metadata": {},
   "source": [
    "## 7.3.Y-randomization для модели GBM"
   ]
  },
  {
   "cell_type": "code",
   "execution_count": 285,
   "metadata": {},
   "outputs": [
    {
     "name": "stderr",
     "output_type": "stream",
     "text": [
      "[Parallel(n_jobs=-1)]: Using backend LokyBackend with 4 concurrent workers.\n"
     ]
    },
    {
     "name": "stdout",
     "output_type": "stream",
     "text": [
      "True score =  0.78 \n",
      "Y-randomization =  0.48 \n",
      "p-value =  0.0476\n"
     ]
    },
    {
     "name": "stderr",
     "output_type": "stream",
     "text": [
      "[Parallel(n_jobs=-1)]: Done  20 out of  20 | elapsed:    3.9s finished\n"
     ]
    }
   ],
   "source": [
    "permutations = 20\n",
    "score, permutation_scores, pvalue = permutation_test_score(best_clf_GBM, x_tr, y_tr,\n",
    "                                                           cv=cv, scoring='balanced_accuracy',\n",
    "                                                           n_permutations=permutations,\n",
    "                                                           n_jobs=-1,\n",
    "                                                           verbose=1,\n",
    "                                                           random_state=24)\n",
    "print('True score = ', score.round(2),\n",
    "      '\\nY-randomization = ', np.mean(permutation_scores).round(2),\n",
    "      '\\np-value = ', pvalue.round(4))"
   ]
  },
  {
   "cell_type": "markdown",
   "metadata": {},
   "source": [
    "## 7.4. Валидация на тестовой выборке для модели GBM"
   ]
  },
  {
   "cell_type": "code",
   "execution_count": 286,
   "metadata": {},
   "outputs": [],
   "source": [
    "y_pred_gbm = best_clf_GBM.predict(x_ts)"
   ]
  },
  {
   "cell_type": "code",
   "execution_count": 287,
   "metadata": {},
   "outputs": [
    {
     "data": {
      "text/plain": [
       "array([1, 1, 1, 0, 1, 1, 1, 1, 1, 0, 1, 0, 0, 0, 0, 0, 0, 0, 1, 0, 0, 0,\n",
       "       0, 0, 0, 0])"
      ]
     },
     "execution_count": 287,
     "metadata": {},
     "output_type": "execute_result"
    }
   ],
   "source": [
    "y_pred_gbm"
   ]
  },
  {
   "cell_type": "code",
   "execution_count": 288,
   "metadata": {},
   "outputs": [
    {
     "name": "stdout",
     "output_type": "stream",
     "text": [
      "balanced_accuracy =  0.89\n",
      "SE =  0.89\n",
      "SP =  0.88\n",
      "Kappa =  0.75\n"
     ]
    }
   ],
   "source": [
    "confusion_matrix_GBM = metrics.confusion_matrix(y_ts, y_pred_gbm, labels=[0,1])\n",
    "Kappa = metrics.cohen_kappa_score(y_ts, y_pred_gbm, weights='linear')\n",
    "TN, FP, FN, TP = confusion_matrix_GBM.ravel()\n",
    "SE = TP/(TP+FN)\n",
    "SP = TN/(TN+FP)\n",
    "BA = (SE + SP)/2\n",
    "print(\"balanced_accuracy = \", round((BA), 2))\n",
    "print(\"SE = \", round((SE), 2))\n",
    "print(\"SP = \", round((SP), 2))\n",
    "print(\"Kappa = \", round((Kappa), 2))"
   ]
  },
  {
   "cell_type": "markdown",
   "metadata": {},
   "source": [
    "# 8. Построение и валидация модели SVM"
   ]
  },
  {
   "cell_type": "markdown",
   "metadata": {},
   "source": [
    "## 8.1. Построение модели SVM"
   ]
  },
  {
   "cell_type": "code",
   "execution_count": 289,
   "metadata": {},
   "outputs": [],
   "source": [
    "scale = StandardScaler().fit(x_tr)\n",
    "x_tr = scale.transform(x_tr)"
   ]
  },
  {
   "cell_type": "code",
   "execution_count": 290,
   "metadata": {},
   "outputs": [
    {
     "data": {
      "text/plain": [
       "['HDAC6_long_list_MGU/20  march 2022 without scale/HDAC_ws_for SVM.pkl']"
      ]
     },
     "execution_count": 290,
     "metadata": {},
     "output_type": "execute_result"
    }
   ],
   "source": [
    "joblib.dump(scale, \"models/HDAC_ws_for SVM.pkl\", compress=3)"
   ]
  },
  {
   "cell_type": "code",
   "execution_count": 291,
   "metadata": {},
   "outputs": [],
   "source": [
    "param_grid = {\"C\": [10 ** i for i in range(0, 5)],\n",
    "              \"gamma\": [10 ** i for i in range(-6, 0)]}"
   ]
  },
  {
   "cell_type": "code",
   "execution_count": 292,
   "metadata": {},
   "outputs": [],
   "source": [
    "svm = GridSearchCV(SVC(kernel='rbf', probability=True), param_grid, n_jobs=2, cv=cv, verbose=1)"
   ]
  },
  {
   "cell_type": "code",
   "execution_count": 293,
   "metadata": {},
   "outputs": [
    {
     "name": "stdout",
     "output_type": "stream",
     "text": [
      "Fitting 5 folds for each of 30 candidates, totalling 150 fits\n"
     ]
    },
    {
     "name": "stderr",
     "output_type": "stream",
     "text": [
      "[Parallel(n_jobs=2)]: Using backend LokyBackend with 2 concurrent workers.\n",
      "[Parallel(n_jobs=2)]: Done 150 out of 150 | elapsed:    1.2s finished\n",
      "C:\\Users\\08A4~1\\AppData\\Local\\conda\\conda\\envs\\my-rdkit-env\\lib\\site-packages\\sklearn\\model_selection\\_search.py:814: DeprecationWarning: The default of the `iid` parameter will change from True to False in version 0.22 and will be removed in 0.24. This will change numeric results when test-set sizes are unequal.\n",
      "  DeprecationWarning)\n"
     ]
    },
    {
     "data": {
      "text/plain": [
       "GridSearchCV(cv=StratifiedKFold(n_splits=5, random_state=42, shuffle=True),\n",
       "             error_score='raise-deprecating',\n",
       "             estimator=SVC(C=1.0, cache_size=200, class_weight=None, coef0=0.0,\n",
       "                           decision_function_shape='ovr', degree=3,\n",
       "                           gamma='auto_deprecated', kernel='rbf', max_iter=-1,\n",
       "                           probability=True, random_state=None, shrinking=True,\n",
       "                           tol=0.001, verbose=False),\n",
       "             iid='warn', n_jobs=2,\n",
       "             param_grid={'C': [1, 10, 100, 1000, 10000],\n",
       "                         'gamma': [1e-06, 1e-05, 0.0001, 0.001, 0.01, 0.1]},\n",
       "             pre_dispatch='2*n_jobs', refit=True, return_train_score=False,\n",
       "             scoring=None, verbose=1)"
      ]
     },
     "execution_count": 293,
     "metadata": {},
     "output_type": "execute_result"
    }
   ],
   "source": [
    "svm.fit(x_tr, y_tr)"
   ]
  },
  {
   "cell_type": "code",
   "execution_count": 294,
   "metadata": {},
   "outputs": [],
   "source": [
    "best_clf_SVM = svm.best_estimator_"
   ]
  },
  {
   "cell_type": "markdown",
   "metadata": {},
   "source": [
    "## 8.2. 5-fold-cross-validation модели SVM"
   ]
  },
  {
   "cell_type": "code",
   "execution_count": 295,
   "metadata": {},
   "outputs": [],
   "source": [
    "y_pred_CV_SVM = cross_val_predict(best_clf_SVM, x_tr, y_tr, cv=cv)"
   ]
  },
  {
   "cell_type": "code",
   "execution_count": 296,
   "metadata": {},
   "outputs": [
    {
     "name": "stdout",
     "output_type": "stream",
     "text": [
      "balanced_accuracy =  0.81\n",
      "SE =  0.74\n",
      "SP =  0.88\n",
      "Kappa =  0.62\n"
     ]
    }
   ],
   "source": [
    "confusion_matrix_CV_SVM = metrics.confusion_matrix(y_tr, y_pred_CV_SVM, labels=[0,1])\n",
    "Kappa = metrics.cohen_kappa_score(y_tr, y_pred_CV_SVM, weights='linear')\n",
    "TN, FP, FN, TP = confusion_matrix_CV_SVM.ravel()\n",
    "SE = TP/(TP+FN)\n",
    "SP = TN/(TN+FP)\n",
    "BA = (SE + SP)/2\n",
    "print(\"balanced_accuracy = \", round((BA), 2))\n",
    "print(\"SE = \", round((SE), 2))\n",
    "print(\"SP = \", round((SP), 2))\n",
    "print(\"Kappa = \", round((Kappa), 2))"
   ]
  },
  {
   "cell_type": "markdown",
   "metadata": {},
   "source": [
    "## 8.3.Y-randomization для модели SVM"
   ]
  },
  {
   "cell_type": "code",
   "execution_count": 297,
   "metadata": {},
   "outputs": [
    {
     "name": "stderr",
     "output_type": "stream",
     "text": [
      "[Parallel(n_jobs=-1)]: Using backend LokyBackend with 4 concurrent workers.\n"
     ]
    },
    {
     "name": "stdout",
     "output_type": "stream",
     "text": [
      "True score =  0.81 \n",
      "Y-randomization =  0.49 \n",
      "p-value =  0.0476\n"
     ]
    },
    {
     "name": "stderr",
     "output_type": "stream",
     "text": [
      "[Parallel(n_jobs=-1)]: Done  20 out of  20 | elapsed:    0.9s finished\n"
     ]
    }
   ],
   "source": [
    "permutations = 20\n",
    "score, permutation_scores, pvalue = permutation_test_score(best_clf_SVM, x_tr, y_tr,\n",
    "                                                           cv=cv, scoring='balanced_accuracy',\n",
    "                                                           n_permutations=permutations,\n",
    "                                                           n_jobs=-1,\n",
    "                                                           verbose=1,\n",
    "                                                           random_state=24)\n",
    "print('True score = ', score.round(2),\n",
    "      '\\nY-randomization = ', np.mean(permutation_scores).round(2),\n",
    "      '\\np-value = ', pvalue.round(4))"
   ]
  },
  {
   "cell_type": "markdown",
   "metadata": {},
   "source": [
    "## 8.4. Валидация на тестовой выборке для модели SVM"
   ]
  },
  {
   "cell_type": "code",
   "execution_count": 298,
   "metadata": {},
   "outputs": [],
   "source": [
    "scale = joblib.load(\"models/HDAC_ws_for SVM.pkl\")\n",
    "x_ts = scale.transform(x_ts)"
   ]
  },
  {
   "cell_type": "code",
   "execution_count": 299,
   "metadata": {},
   "outputs": [],
   "source": [
    "y_pred_SVM = best_clf_SVM.predict(x_ts)"
   ]
  },
  {
   "cell_type": "code",
   "execution_count": 300,
   "metadata": {},
   "outputs": [
    {
     "data": {
      "text/plain": [
       "array([1, 1, 1, 0, 1, 1, 1, 1, 1, 0, 0, 0, 0, 0, 0, 0, 0, 0, 1, 0, 0, 0,\n",
       "       0, 0, 0, 0])"
      ]
     },
     "execution_count": 300,
     "metadata": {},
     "output_type": "execute_result"
    }
   ],
   "source": [
    "y_pred_SVM"
   ]
  },
  {
   "cell_type": "code",
   "execution_count": 301,
   "metadata": {},
   "outputs": [
    {
     "name": "stdout",
     "output_type": "stream",
     "text": [
      "balanced_accuracy =  0.92\n",
      "SE =  0.89\n",
      "SP =  0.94\n",
      "Kappa =  0.83\n"
     ]
    }
   ],
   "source": [
    "confusion_matrix_SVM = metrics.confusion_matrix(y_ts, y_pred_SVM, labels=[0,1])\n",
    "Kappa = metrics.cohen_kappa_score(y_ts, y_pred_SVM, weights='linear')\n",
    "TN, FP, FN, TP = confusion_matrix_SVM.ravel()\n",
    "SE = TP/(TP+FN)\n",
    "SP = TN/(TN+FP)\n",
    "BA = (SE + SP)/2\n",
    "print(\"balanced_accuracy = \", round((BA), 2))\n",
    "print(\"SE = \", round((SE), 2))\n",
    "print(\"SP = \", round((SP), 2))\n",
    "print(\"Kappa = \", round((Kappa), 2))"
   ]
  },
  {
   "cell_type": "markdown",
   "metadata": {},
   "source": [
    "# 9. Консенсусное моделирование"
   ]
  },
  {
   "cell_type": "markdown",
   "metadata": {},
   "source": [
    "## 9.1.  5-fold CV"
   ]
  },
  {
   "cell_type": "code",
   "execution_count": 302,
   "metadata": {},
   "outputs": [],
   "source": [
    "y_pred_cv_con = 1 * (((y_pred_CV_RF + y_pred_CV_GBM + y_pred_CV_SVM) / 3) >= 0.5)"
   ]
  },
  {
   "cell_type": "code",
   "execution_count": 303,
   "metadata": {},
   "outputs": [
    {
     "name": "stdout",
     "output_type": "stream",
     "text": [
      "balanced_accuracy =  0.81\n",
      "SE =  0.71\n",
      "SP =  0.91\n",
      "Kappa =  0.64\n"
     ]
    }
   ],
   "source": [
    "confusion_matrix_cv_con = metrics.confusion_matrix(y_tr, y_pred_cv_con, labels=[0,1])\n",
    "Kappa = metrics.cohen_kappa_score(y_tr, y_pred_cv_con, weights='linear')\n",
    "TN, FP, FN, TP = confusion_matrix_cv_con.ravel()\n",
    "SE = TP/(TP+FN)\n",
    "SP = TN/(TN+FP)\n",
    "BA = (SE + SP)/2\n",
    "print(\"balanced_accuracy = \", round((BA), 2))\n",
    "print(\"SE = \", round((SE), 2))\n",
    "print(\"SP = \", round((SP), 2))\n",
    "print(\"Kappa = \", round((Kappa), 2))"
   ]
  },
  {
   "cell_type": "markdown",
   "metadata": {},
   "source": [
    "## 9.2. Test set"
   ]
  },
  {
   "cell_type": "code",
   "execution_count": 304,
   "metadata": {},
   "outputs": [],
   "source": [
    "pred_c = 1 * (((y_pred_rf + y_pred_gbm + y_pred_SVM) / 3) >= 0.5)"
   ]
  },
  {
   "cell_type": "code",
   "execution_count": 305,
   "metadata": {},
   "outputs": [
    {
     "data": {
      "text/plain": [
       "array([1, 1, 1, 0, 1, 1, 1, 1, 1, 0, 0, 0, 0, 0, 0, 0, 0, 0, 1, 0, 0, 0,\n",
       "       0, 0, 0, 0])"
      ]
     },
     "execution_count": 305,
     "metadata": {},
     "output_type": "execute_result"
    }
   ],
   "source": [
    "pred_c"
   ]
  },
  {
   "cell_type": "code",
   "execution_count": 306,
   "metadata": {},
   "outputs": [
    {
     "name": "stdout",
     "output_type": "stream",
     "text": [
      "balanced_accuracy =  0.92\n",
      "SE =  0.89\n",
      "SP =  0.94\n",
      "Kappa =  0.83\n"
     ]
    }
   ],
   "source": [
    "confusion_matrix_GBM = metrics.confusion_matrix(y_ts, pred_c, labels=[0,1])\n",
    "Kappa = metrics.cohen_kappa_score(y_ts, pred_c, weights='linear')\n",
    "TN, FP, FN, TP = confusion_matrix_GBM.ravel()\n",
    "SE = TP/(TP+FN)\n",
    "SP = TN/(TN+FP)\n",
    "BA = (SE + SP)/2\n",
    "print(\"balanced_accuracy = \", round((BA), 2))\n",
    "print(\"SE = \", round((SE), 2))\n",
    "print(\"SP = \", round((SP), 2))\n",
    "print(\"Kappa = \", round((Kappa), 2))"
   ]
  }
 ],
 "metadata": {
  "kernelspec": {
   "display_name": "Python3 (rdkit)",
   "language": "python",
   "name": "my-rdkit-env"
  },
  "language_info": {
   "codemirror_mode": {
    "name": "ipython",
    "version": 3
   },
   "file_extension": ".py",
   "mimetype": "text/x-python",
   "name": "python",
   "nbconvert_exporter": "python",
   "pygments_lexer": "ipython3",
   "version": "3.7.9"
  }
 },
 "nbformat": 4,
 "nbformat_minor": 2
}
